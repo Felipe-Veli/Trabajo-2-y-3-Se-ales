{
 "cells": [
  {
   "cell_type": "markdown",
   "id": "c3fa92fc",
   "metadata": {},
   "source": [
    "# Aplicando la STFT a señales reales\n",
    "***\n",
    "\n",
    "## Integrantes\n",
    "\n",
    "-Felipe Véliz ; felipe.veliz@alumnos.uach.cl\n",
    "\n",
    "-Leonardo Santos ; leonardo.santos@alumnos.uach.cl\n",
    "\n",
    "## Institución\n",
    "\n",
    "Universidad Austral de Chile\n",
    "\n",
    "## Profesor\n",
    "\n",
    "- Victor Poblete\n",
    "\n",
    "## Asignatura\n",
    "\n",
    "ACUS099\n",
    "\n",
    "## Objetivo\n",
    "\n",
    "El objetivo de este trabajo es aplicar la STFT creada anteriormente, a dos señales reales, usando lenguaje de programación python."
   ]
  },
  {
   "cell_type": "markdown",
   "id": "74aa30cb",
   "metadata": {},
   "source": [
    "# Librerias a usar"
   ]
  },
  {
   "cell_type": "code",
   "execution_count": null,
   "id": "2933b156",
   "metadata": {},
   "outputs": [],
   "source": [
    "import numpy as np\n",
    "import matplotlib.pyplot as plt\n",
    "import librosa as lib\n",
    "from scipy.fft import fft, ifft, fftshift\n",
    "import IPython.display as disp \n",
    "from scipy.signal.windows import hann,hamming"
   ]
  },
  {
   "cell_type": "markdown",
   "id": "b10dcd07",
   "metadata": {},
   "source": [
    "## Señal 1"
   ]
  },
  {
   "cell_type": "code",
   "execution_count": null,
   "id": "233c4e74",
   "metadata": {},
   "outputs": [],
   "source": [
    "sr=44100 #Frecuencia de muestreo \n",
    "sig,fs=lib.load(\"ref.wav\",sr=44100)\n",
    "disp.Audio(sig, rate=sr)"
   ]
  },
  {
   "cell_type": "code",
   "execution_count": null,
   "id": "366e34d0",
   "metadata": {},
   "outputs": [],
   "source": [
    "len_f=1048  #largo de la ventana \n",
    "overlap= 0.5  #porcentaje de traslape \n",
    "num_f=int(round(len(sig)/(len_f*(1-overlap))))\n",
    "count_f= len_f*num_f \n",
    "print(\"La señal posee un total de\",num_f, \"ventanas\")"
   ]
  },
  {
   "cell_type": "code",
   "execution_count": null,
   "id": "e73779f4",
   "metadata": {
    "scrolled": true
   },
   "outputs": [],
   "source": [
    "w=hann(len_f)"
   ]
  },
  {
   "cell_type": "code",
   "execution_count": null,
   "id": "2bc8bf5f",
   "metadata": {},
   "outputs": [],
   "source": [
    "mat_f=[]\n",
    "\n",
    "for i in range(num_f):\n",
    "    f=list(sig[int(len_f*(1-overlap))*i:int(len_f*((1-overlap)*i+1))])\n",
    "    while len(f)<len_f:    \n",
    "        f.append(0)        \n",
    "    mat_f.append(f)\n",
    "\n",
    "mat_f_np=np.array(mat_f)"
   ]
  },
  {
   "cell_type": "code",
   "execution_count": null,
   "id": "60b1c14f",
   "metadata": {},
   "outputs": [],
   "source": [
    "mm_w=(mat_f_np*w)\n",
    "mm_w.shape"
   ]
  },
  {
   "cell_type": "code",
   "execution_count": null,
   "id": "e28eb191",
   "metadata": {},
   "outputs": [],
   "source": [
    "#señal 1 \n",
    "\n",
    "fft_ii=[]\n",
    "for i in range(mm_w.shape[1]):\n",
    "    f_i = mm_w[:,i]\n",
    "    ff_i= (np.abs(fftshift(fft(f_i,n=len_f))[len_f//2:]))\n",
    "    fft_ii.append(ff_i)\n",
    "\n",
    "m_fft=np.asarray(fft_ii).T\n",
    "print(m_fft_2.shape)\n",
    "\n",
    "plt.figure(figsize=(16,6))\n",
    "plt.pcolormesh(m_fft)\n",
    "\n",
    "plt.xlabel('tiempo [ventanas]',size=14)\n",
    "plt.ylabel(\"frecuencia [bin]\",size=14);"
   ]
  },
  {
   "cell_type": "markdown",
   "id": "47753303",
   "metadata": {},
   "source": [
    "# Señal 2\n"
   ]
  },
  {
   "cell_type": "code",
   "execution_count": null,
   "id": "eaf05fe1",
   "metadata": {},
   "outputs": [],
   "source": [
    "sr=44100\n",
    "t_fin2=len(sig)  \n",
    "sig_2,fs=lib.load(\"Loop.wav\",sr=44100)\n",
    "disp.Audio(sig_2, rate=sr)"
   ]
  },
  {
   "cell_type": "code",
   "execution_count": null,
   "id": "12dfffee",
   "metadata": {},
   "outputs": [],
   "source": [
    "len_f_2=800\n",
    "overlap_2= 0.5 \n",
    "num_f_2=int(round(len(sig_2)/(len_f_2*(1-overlap_2))))  \n",
    "count_f_2= len_f_2*num_f_2 \n",
    "print(\"La señal posee un total de\",num_f_2, \"ventanas\")"
   ]
  },
  {
   "cell_type": "code",
   "execution_count": null,
   "id": "16a6fe54",
   "metadata": {},
   "outputs": [],
   "source": [
    "w2=hamming(len_f_2)"
   ]
  },
  {
   "cell_type": "code",
   "execution_count": null,
   "id": "2f31c470",
   "metadata": {},
   "outputs": [],
   "source": [
    "mat_f_2=[]\n",
    "for i in range(num_f_2):\n",
    "    f=list(sig_2[int(len_f_2*(1-overlap_2))*i:int(len_f_2*((1-overlap_2)*i+1))])\n",
    "    while len(f)<len_f_2:     \n",
    "        f.append(0)        \n",
    "    mat_f_2.append(f)\n",
    "    \n",
    "mat_f_2_np=np.array(mat_f_2).T\n"
   ]
  },
  {
   "cell_type": "code",
   "execution_count": null,
   "id": "3a8e1751",
   "metadata": {},
   "outputs": [],
   "source": [
    "mm_w2=(mat_f_2_np.T*w2).T\n",
    "mm_w2.shape"
   ]
  },
  {
   "cell_type": "code",
   "execution_count": null,
   "id": "fc22c6df",
   "metadata": {},
   "outputs": [],
   "source": [
    "#señal 2\n",
    "\n",
    "fft_ii_2=[]\n",
    "for i in range(mm_w2.shape[1]):\n",
    "    f_i = mm_w2[:,i]\n",
    "    ff_i= (np.abs(fftshift(fft(f_i,n=len_f_2))[len_f_2//2:]))\n",
    "    fft_ii_2.append(np.abs(ff_i))\n",
    "\n",
    "m_fft_2=np.asarray(fft_ii_2).T\n",
    "print(m_fft_2.shape)\n",
    "\n",
    "plt.figure(figsize=(20,10))\n",
    "plt.pcolormesh(m_fft_2)  \n",
    "plt.xlabel(\"tiempo [ventanas]\",size=14)\n",
    "plt.ylabel(\"frecuencia [bin]\",size=14)\n",
    "plt.title(\"Gráfico 2\",size=20)\n",
    "plt.show()"
   ]
  },
  {
   "cell_type": "markdown",
   "id": "14043311",
   "metadata": {},
   "source": [
    "# Conclusion \n",
    "\n",
    "En este trabajo, se implementó la STFT en señales reales, usando la librería *librosa* para cargar los audios.\n",
    "Ademas, se tuvo la oportunidad de poner a prueba el trade up mencionado en clases, al verificar el cambio al tener un largo de ventana mayor y menor, en donde efectivamente pudimos notar que  al ser un largo menor, se obtuvo una claridad y mas datos en frecuencia, como se pudo ver en la segunda señal, sin embargo, se pierde resolucion en tiempo.  Se concluye que este trabajo logró poner a prueba nuestro manejo en cuanto a la aplicacion  de la stft, donde ademas se pudo entender consideraciones que hay que tener para los distintos tipos de señales, como lo son el control de parametros para los distintos casos, siempre buscando tener el resultado deseado para cada señal."
   ]
  },
  {
   "cell_type": "code",
   "execution_count": null,
   "id": "442c674b",
   "metadata": {},
   "outputs": [],
   "source": []
  }
 ],
 "metadata": {
  "kernelspec": {
   "display_name": "acus099",
   "language": "python",
   "name": "acus099"
  },
  "language_info": {
   "codemirror_mode": {
    "name": "ipython",
    "version": 3
   },
   "file_extension": ".py",
   "mimetype": "text/x-python",
   "name": "python",
   "nbconvert_exporter": "python",
   "pygments_lexer": "ipython3",
   "version": "3.8.10"
  }
 },
 "nbformat": 4,
 "nbformat_minor": 5
}
