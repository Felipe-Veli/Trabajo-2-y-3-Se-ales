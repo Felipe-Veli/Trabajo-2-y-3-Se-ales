{
 "cells": [
  {
   "cell_type": "markdown",
   "id": "c3fa92fc",
   "metadata": {},
   "source": [
    "# Aplicando la STFT a señales reales\n",
    "***\n",
    "\n",
    "## Integrantes\n",
    "\n",
    "-Felipe Véliz ; felipe.veliz@alumnos.uach.cl\n",
    "\n",
    "-Leonardo Santos ; leonardo.santos@alumnos.uach.cl\n",
    "\n",
    "## Institución\n",
    "\n",
    "Universidad Austral de Chile\n",
    "\n",
    "## Profesor\n",
    "\n",
    "- Victor Poblete\n",
    "\n",
    "## Asignatura\n",
    "\n",
    "ACUS099\n",
    "\n",
    "## Objetivo\n",
    "\n",
    "El objetivo de este trabajo es aplicar la STFT creada anteriormente, a dos señales reales, usando lenguaje de programación python."
   ]
  },
  {
   "cell_type": "markdown",
   "id": "74aa30cb",
   "metadata": {},
   "source": [
    "# Librerias a usar"
   ]
  },
  {
   "cell_type": "code",
   "execution_count": null,
   "id": "2933b156",
   "metadata": {},
   "outputs": [],
   "source": [
    "import numpy as np\n",
    "import matplotlib.pyplot as plt\n",
    "import librosa as lib\n",
    "from scipy.fft import fft, ifft, fftshift\n",
    "import IPython.display as disp \n",
    "from scipy.signal.windows import hann,hamming"
   ]
  },
  {
   "cell_type": "markdown",
   "id": "b10dcd07",
   "metadata": {},
   "source": [
    "## Señal 1"
   ]
  },
  {
   "cell_type": "code",
   "execution_count": null,
   "id": "233c4e74",
   "metadata": {},
   "outputs": [],
   "source": [
    "sr=44100 #Frecuencia de muestreo \n",
    "sig,fs=lib.load(\"ref.wav\",sr=44100)\n",
    "disp.Audio(sig, rate=sr)"
   ]
  },
  {
   "cell_type": "code",
   "execution_count": null,
   "id": "366e34d0",
   "metadata": {},
   "outputs": [],
   "source": [
    "len_f=1024  #largo de la ventana \n",
    "overlap= 0.5  #porcentaje de traslape \n",
    "num_f=int(round(len(sig)/(len_f*(1-overlap))))\n",
    "count_f= len_f*num_f \n",
    "print(\"La señal posee un total de\",num_f, \"ventanas\")"
   ]
  },
  {
   "cell_type": "code",
   "execution_count": null,
   "id": "e73779f4",
   "metadata": {
    "scrolled": true
   },
   "outputs": [],
   "source": [
    "w=hamming(len_f)\n",
    "z=hann(len_f)"
   ]
  },
  {
   "cell_type": "code",
   "execution_count": null,
   "id": "2bc8bf5f",
   "metadata": {},
   "outputs": [],
   "source": [
    "mat_f=[]\n",
    "\n",
    "for i in range(num_f):\n",
    "    f=list(sig[int(len_f*(1-overlap))*i:int(len_f*((1-overlap)*i+1))])\n",
    "    while len(f)<len_f:    \n",
    "        f.append(0)        \n",
    "    mat_f.append(f)\n",
    "\n",
    "mat_f_np=np.array(mat_f)"
   ]
  },
  {
   "cell_type": "code",
   "execution_count": null,
   "id": "60b1c14f",
   "metadata": {},
   "outputs": [],
   "source": [
    "mm_w=(mat_f_np*w)\n",
    "mm_w.shape"
   ]
  },
  {
   "cell_type": "code",
   "execution_count": null,
   "id": "e28eb191",
   "metadata": {},
   "outputs": [],
   "source": [
    "#señal 1 \n",
    "\n",
    "fft_ii=[]\n",
    "for i in range(mm_w.shape[1]):\n",
    "    f_i = mm_w[:,i]\n",
    "    ff_i= (np.abs(fftshift(fft(f_i,n=len_f))[len_f//2:]))**2\n",
    "    fft_ii.append(ff_i)\n",
    "\n",
    "m_fft=np.asarray(fft_ii).T\n",
    "fr=np.linspace(0,sr//2,num=m_fft.shape[1])\n",
    "tiempo=np.linspace(0,t_fin,num=m_fft.shape[0])\n",
    "\n",
    "plt.figure(figsize=(16,6))\n",
    "plt.pcolormesh(m_fft)  \n",
    "\n",
    "plt.xlabel('tiempo [ventanas]',size=14)\n",
    "plt.ylabel(\"frecuencia [bin]\",size=14);"
   ]
  },
  {
   "cell_type": "code",
   "execution_count": null,
   "id": "c3d9308f",
   "metadata": {},
   "outputs": [],
   "source": [
    "#Grafico en Hz y Segundos\n",
    "\n",
    "t_fin=len(sig)\n",
    "fr=np.linspace(0,sr//2,num=6)\n",
    "bin_fr=np.linspace(0,m_fft.shape[0],num=6)\n",
    "tiempo=np.linspace(0,t_fin,num=9)\n",
    "tiempo_f=np.linspace(0,m_fft.shape[1],num=9)\n",
    "plt.figure(figsize=(16,6))\n",
    "plt.pcolormesh(m_fft)  \n",
    "plt.xlabel('tiempo [segundos]',size=14)\n",
    "plt.ylabel(\"frecuencia [Hz]\",size=14)\n",
    "plt.xticks(tiempo_f,tiempo)\n",
    "plt.yticks(bin_fr,fr);"
   ]
  },
  {
   "cell_type": "markdown",
   "id": "47753303",
   "metadata": {},
   "source": [
    "# Señal 2\n"
   ]
  },
  {
   "cell_type": "code",
   "execution_count": null,
   "id": "eaf05fe1",
   "metadata": {},
   "outputs": [],
   "source": [
    "sr=44100\n",
    "t_fin2=len(sig)  \n",
    "sig_2,fs=lib.load(\"Loop.wav\",sr=44100)\n",
    "disp.Audio(sig_2, rate=sr)"
   ]
  },
  {
   "cell_type": "code",
   "execution_count": null,
   "id": "12dfffee",
   "metadata": {},
   "outputs": [],
   "source": [
    "len_f_2=1000 #podemos elegir un largo de ventana menor, debido a la corta duracion de la señal\n",
    "overlap_2= 0.5  #porcentaje de traslape \n",
    "num_f_2=int(round(len(sig_2)/(len_f_2*(1-overlap_2)))) #numero de ventanas en funcion de la señal \n",
    "count_f_2= len_f_2*num_f_2    #cantidad total de la muestras de la matriz\n",
    "print(\"La señal posee un total de\",num_f_2, \"ventanas\")"
   ]
  },
  {
   "cell_type": "code",
   "execution_count": null,
   "id": "16a6fe54",
   "metadata": {},
   "outputs": [],
   "source": [
    "w2=hamming(len_f_2)\n",
    "z2=hann(len_f_2)"
   ]
  },
  {
   "cell_type": "code",
   "execution_count": null,
   "id": "2f31c470",
   "metadata": {},
   "outputs": [],
   "source": [
    "mat_f_2=[]\n",
    "for i in range(num_f_2):\n",
    "    f=list(sig_2[int(len_f_2*(1-overlap_2))*i:int(len_f_2*((1-overlap_2)*i+1))])\n",
    "    while len(f)<len_f_2:     \n",
    "        f.append(0)        \n",
    "    mat_f_2.append(f)\n",
    "    \n",
    "mat_f_2_np=np.array(mat_f_2).T\n"
   ]
  },
  {
   "cell_type": "code",
   "execution_count": null,
   "id": "3a8e1751",
   "metadata": {},
   "outputs": [],
   "source": [
    "mm_z_2=(mat_f_2_np.T*z2).T\n",
    "mm_z_2.shape"
   ]
  },
  {
   "cell_type": "code",
   "execution_count": null,
   "id": "fc22c6df",
   "metadata": {},
   "outputs": [],
   "source": [
    "#señal 2\n",
    "\n",
    "fft_ii_2=[]\n",
    "for i in range(mm_z_2.shape[1]):\n",
    "    f_i = mm_z_2[:,i]\n",
    "    ff_i= (np.abs(fftshift(fft(f_i,n=len_f_2))[len_f_2//2:]))\n",
    "    fft_ii_2.append(np.abs(ff_i))\n",
    "\n",
    "m_fft_2=np.asarray(fft_ii_2).T\n",
    "print(m_fft_2.shape)\n",
    "\n",
    "fr=np.linspace(0,sr//2,num=m_fft_2.shape[1])\n",
    "tiempo=np.linspace(0,t_fin2,num=m_fft_2.shape[0])\n",
    "\n",
    "plt.figure(figsize=(20,10))\n",
    "plt.pcolormesh(m_fft_2)  \n",
    "plt.xlabel(\"tiempo [ventanas]\",size=14)\n",
    "plt.ylabel(\"frecuencia [bin]\",size=14)\n",
    "plt.title(\"Gráfico 2\",size=20)\n",
    "plt.show()"
   ]
  },
  {
   "cell_type": "markdown",
   "id": "14043311",
   "metadata": {},
   "source": [
    "# Conclusion \n",
    "\n",
    "En este trabajo ............\n",
    "\n",
    "Cuando tenemos señales largas, caso contrario lo podemos apreciar en el grafico 1, una señal mas larga y\n",
    "\n",
    "Al tener un largo de ventana menor, obtenemos una mejor resolucion en frecuencia, como podemos ver en la segunda señal, sin embargo, perdemos resolucion en tiempo. \n",
    "\n",
    " contrario, un"
   ]
  },
  {
   "cell_type": "code",
   "execution_count": null,
   "id": "442c674b",
   "metadata": {},
   "outputs": [],
   "source": []
  }
 ],
 "metadata": {
  "kernelspec": {
   "display_name": "acus099",
   "language": "python",
   "name": "acus099"
  },
  "language_info": {
   "codemirror_mode": {
    "name": "ipython",
    "version": 3
   },
   "file_extension": ".py",
   "mimetype": "text/x-python",
   "name": "python",
   "nbconvert_exporter": "python",
   "pygments_lexer": "ipython3",
   "version": "3.8.10"
  }
 },
 "nbformat": 4,
 "nbformat_minor": 5
}
