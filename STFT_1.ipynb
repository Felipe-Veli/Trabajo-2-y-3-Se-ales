{
 "cells": [
  {
   "cell_type": "markdown",
   "id": "b8bde506",
   "metadata": {},
   "source": [
    "# Desarrollo de STFT\n",
    "***\n",
    "\n",
    "## Integrantes\n",
    "\n",
    "-Felipe Véliz ; felipe.veliz@alumnos.uach.cl\n",
    "\n",
    "-Leonardo Santos ; leonardo.santos@alumnos.uach.cl\n",
    "\n",
    "## Institución\n",
    "\n",
    "Universidad Austral de Chile\n",
    "\n",
    "## Profesor\n",
    "\n",
    "- Victor Poblete\n",
    "\n",
    "## Asignatura\n",
    "\n",
    "ACUS099\n",
    "\n",
    "## Objetivo\n",
    "\n",
    "El objetivo de este trabajo es desarrollar la transformada de fourier de tiempo corto de forma discreta, usando lenguaje de programación python."
   ]
  },
  {
   "cell_type": "markdown",
   "id": "8f7f9e18",
   "metadata": {},
   "source": [
    "# Librerias a usar"
   ]
  },
  {
   "cell_type": "code",
   "execution_count": null,
   "id": "887ce4d9",
   "metadata": {},
   "outputs": [],
   "source": [
    "import numpy as np\n",
    "import matplotlib.pyplot as plt\n",
    "from scipy.fft import fft, ifft, fftshift\n",
    "import IPython.display as disp \n",
    "from scipy.signal import chirp\n",
    "from scipy.signal.windows import hann,hamming"
   ]
  },
  {
   "cell_type": "markdown",
   "id": "e003c238",
   "metadata": {},
   "source": [
    "## Preparando la señal\n",
    "\n",
    "Para demsotrar como funciona la STFT, necesitamos una señal inicial con la cual trabajar.\n"
   ]
  },
  {
   "cell_type": "code",
   "execution_count": null,
   "id": "e7cf2c66",
   "metadata": {},
   "outputs": [],
   "source": [
    "sr=44100 #Sample rate \n",
    "t_fin=10  #Duracion de la señal en segundos\n",
    "t=t_fin*sr  #Duracion de la señal en muestras\n",
    "T=np.linspace(0,t_fin,t) #vector de tiempo\n",
    "sig= chirp(T, f0=50, f1=7000, t1=t_fin, method='linear')  #señal usando chirp\n",
    "disp.Audio(sig, rate=sr)"
   ]
  },
  {
   "cell_type": "code",
   "execution_count": null,
   "id": "35c4d05e",
   "metadata": {},
   "outputs": [],
   "source": [
    "len_f=1024  #largo de la ventana \n",
    "overlap= 0.5  #porcentaje de traslape\n",
    "\n",
    "num_f=int(round(len(sig)/(len_f*(1-overlap)))) #numero de ventanas en funcion de la señal\n",
    "count_f= len_f*num_f    #cantidad total de la muestras de la matriz\n",
    "\n",
    "print(\"La señal posee un total de\",num_f, \"ventanas\")"
   ]
  },
  {
   "cell_type": "markdown",
   "id": "4f55454d",
   "metadata": {},
   "source": [
    "## Aplicación de función ventana\n",
    "\n",
    "Al usar cierto porcentaje de overlap o traslape nos encontramos con un problema, tenemos datos duplicados en las ventanas, lo cual provoca un incremento de amplitud. \n",
    "\n",
    "Las funciones ventana son ponderaciones usadas para solucionar este problema, cada una nivela de manera distinta el incremento de amplitud.  "
   ]
  },
  {
   "cell_type": "code",
   "execution_count": null,
   "id": "bda45233",
   "metadata": {
    "scrolled": false
   },
   "outputs": [],
   "source": [
    "tp=0.5\n",
    "y=np.zeros(len(sig[0:int(tp*sr)]))\n",
    "plt.figure(figsize=(15,5))\n",
    "plt.plot(T[0:int(tp*sr)],sig[0:int(tp*sr)])\n",
    "plt.plot(T[0:int(tp*sr)],y)\n",
    "plt.xlabel(\"Tiempo [s]\",size=14)\n",
    "plt.ylabel(\"Amplitud\",size=14)\n",
    "plt.title(\"Forma de onda temporal\",size=15)\n",
    "plt.show()"
   ]
  },
  {
   "cell_type": "code",
   "execution_count": null,
   "id": "90699379",
   "metadata": {},
   "outputs": [],
   "source": [
    "#primera ventana\n",
    "plt.figure(figsize=(15,5))\n",
    "plt.plot(T[0:len_f],sig[0:len_f])"
   ]
  },
  {
   "cell_type": "markdown",
   "id": "61e65340",
   "metadata": {},
   "source": [
    "### Funciones ventana\n",
    "\n",
    "A continuacion, usaremos dos ponderaciones distintas y las aplicaremos en la primera ventana que contiene los datos de la señal, para ver como estas afectan de manera distinta.\n",
    "\n",
    "### Funciones definidas  matemáticamente:\n",
    "\n",
    "#### Función Hamming\n",
    "\n",
    " $$\n",
    "\\begin{align}\n",
    "w(n) = 0.54 - 0.46cos\\left(\\frac{2\\pi n}{M-1}\\right), \\qquad 0\\le n \\le M-1\n",
    "\\end{align}\n",
    "$$\n",
    "***\n",
    "\n",
    "#### Función Hann\n",
    "\n",
    " $$\n",
    "\\begin{align}\n",
    "w(n) = 0.5 - 0.5cos\\left(\\frac{2\\pi n}{M-1}\\right), \\qquad 0\\le n \\le M-1\n",
    "\\end{align}\n",
    "$$"
   ]
  },
  {
   "cell_type": "code",
   "execution_count": null,
   "id": "3b656781",
   "metadata": {
    "scrolled": true
   },
   "outputs": [],
   "source": [
    "ham=hamming(len_f)\n",
    "han=hann(len_f)\n",
    "\n",
    "\n",
    "plt.figure(figsize=(14,5))\n",
    "plt.plot(ham,label=\"hamming\")\n",
    "plt.plot(han,label=\"hann\")\n",
    "plt.title(\"Comparación de ponderaciones\",size=15)\n",
    "plt.legend()\n",
    "plt.show()"
   ]
  },
  {
   "cell_type": "code",
   "execution_count": null,
   "id": "941566b3",
   "metadata": {},
   "outputs": [],
   "source": [
    "\n",
    "mat_f=[]                   #la señal se va separando en ventanas de manera reiterativa dentro del ciclo for\n",
    "for i in range(num_f):     #hasta el total de ventanas -1\n",
    "    f=list(sig[int(len_f*(1-overlap))*i:int(len_f*((1-overlap)*i+1))])\n",
    "    while len(f)<len_f:   #esta condicion identifica cuando nos faltan datos en la ventana y en ese caso rellena con 0 \n",
    "        f.append(0)    \n",
    "    mat_f.append(f)\n",
    "\n",
    "mat_f_np=np.array(mat_f).T\n",
    "mm_ham=(mat_f_np.T*ham).T\n",
    "mm_han=(mat_f_np.T*han).T\n",
    "mm_ham.shape"
   ]
  },
  {
   "cell_type": "code",
   "execution_count": null,
   "id": "db6c237f",
   "metadata": {
    "scrolled": true
   },
   "outputs": [],
   "source": [
    "f=50 #numero de ventana\n",
    "tf1=int(len_f*(1-overlap))*f\n",
    "tf2=int(len_f*((1-overlap)*f+1)) \n",
    "f_50=tf2-len_f #Posición de la ventana 50 en muestras\n",
    "sig_f=sig[f_50:f_50+len_f]\n",
    "\n",
    "plt.figure(figsize=(15,5))\n",
    "plt.plot(mm_ham[:,f])\n",
    "plt.plot(mm_han[:,f])\n",
    "plt.plot(sig_f)\n",
    "\n",
    "print(tf1,tf2,\"muestras\") #Ubicación de la ventana en muestras\n",
    "print(tf1/sr,(tf2/sr),'segundos') #Ubicación de la ventana en segundos\n",
    "print(f_50)\n",
    "plt.show()"
   ]
  },
  {
   "cell_type": "markdown",
   "id": "beddb5b3",
   "metadata": {},
   "source": [
    "Como podemos aprecias, la función Hann afecta mas a los extremos de la ventana."
   ]
  },
  {
   "cell_type": "markdown",
   "id": "2964c7e2",
   "metadata": {},
   "source": [
    "## Aplicar la STFT\n",
    "\n",
    "Para aplicar STFT crearemos un arreglo de matriz con numpy y luego le aplicaremos la funcion ventana *Hamming*.\n",
    "Finalmente aplicaremos la funcion *fftshift* para tener solamente la parte positiva de las frecuencias."
   ]
  },
  {
   "cell_type": "code",
   "execution_count": null,
   "id": "235dcaf5",
   "metadata": {},
   "outputs": [],
   "source": [
    "fft_ii=[]\n",
    "for i in range(mm_ham.shape[1]):\n",
    "    f_i = mm_ham[:,i]\n",
    "    ff_i= ((fftshift(fft(f_i,n=len_f))[len_f//2:]))\n",
    "    fft_ii.append(np.abs(ff_i))\n",
    "\n",
    "print(len(fft_ii))\n",
    "m_fft=np.asarray(fft_ii).T\n",
    "print(m_fft.shape)\n",
    "\n",
    "fr=np.linspace(0,sr//2,num=m_fft.shape[1])\n",
    "tiempo=np.linspace(0,t_fin,num=m_fft.shape[0])\n",
    "\n",
    "plt.figure(figsize=(15,10))\n",
    "plt.pcolormesh(m_fft)  \n",
    "plt.xlabel('tiempo [ventanas]',size=14)\n",
    "plt.ylabel(\"frecuencia [bin]\",size=14)"
   ]
  },
  {
   "cell_type": "markdown",
   "id": "03fe7614",
   "metadata": {},
   "source": [
    "## Conclusion \n",
    "\n",
    "En este trabajo\n"
   ]
  }
 ],
 "metadata": {
  "kernelspec": {
   "display_name": "acus099",
   "language": "python",
   "name": "acus099"
  },
  "language_info": {
   "codemirror_mode": {
    "name": "ipython",
    "version": 3
   },
   "file_extension": ".py",
   "mimetype": "text/x-python",
   "name": "python",
   "nbconvert_exporter": "python",
   "pygments_lexer": "ipython3",
   "version": "3.8.10"
  }
 },
 "nbformat": 4,
 "nbformat_minor": 5
}
