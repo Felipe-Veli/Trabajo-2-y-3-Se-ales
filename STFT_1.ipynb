{
 "cells": [
  {
   "cell_type": "markdown",
   "id": "b8bde506",
   "metadata": {},
   "source": [
    "# Desarrollo de STFT\n",
    "***\n",
    "\n",
    "## Integrantes\n",
    "\n",
    "-Felipe Véliz ; felipe.veliz@alumnos.uach.cl\n",
    "\n",
    "-Leonardo Santos ; leonardo.santos@alumnos.uach.cl\n",
    "\n",
    "## Institución\n",
    "\n",
    "Universidad Austral de Chile\n",
    "\n",
    "## Profesor\n",
    "\n",
    "- Victor Poblete\n",
    "\n",
    "## Asignatura\n",
    "\n",
    "ACUS099\n",
    "\n",
    "## Objetivo\n",
    "\n",
    "El objetivo de este trabajo es desarrollar la transformada de fourier de tiempo corto de forma discreta, usando lenguaje de programación python."
   ]
  },
  {
   "cell_type": "markdown",
   "id": "8f7f9e18",
   "metadata": {},
   "source": [
    "# Librerias a usar"
   ]
  },
  {
   "cell_type": "code",
   "execution_count": 2,
   "id": "887ce4d9",
   "metadata": {},
   "outputs": [],
   "source": [
    "\n",
    "import numpy as np\n",
    "import matplotlib.pyplot as plt\n",
    "from scipy.fft import fft, ifft, fftshift\n",
    "from scipy.signal import chirp\n",
    "import IPython.display as disp \n",
    "from scipy.signal.windows import hann,hamming\n",
    "%matplotlib inline\n"
   ]
  },
  {
   "cell_type": "markdown",
   "id": "e003c238",
   "metadata": {},
   "source": [
    "## Preparando la señal\n",
    "\n",
    "Para demsotrar como funciona la STFT, necesitamos una señal inicial.\n"
   ]
  },
  {
   "cell_type": "code",
   "execution_count": 3,
   "id": "e7cf2c66",
   "metadata": {},
   "outputs": [],
   "source": [
    "\n",
    "sr=44100 #Sample rate \n",
    "t_fin=10  #Duracion de la señal en segundos [s]\n",
    "t=t_fin*sr  #Duracion de la señal \n",
    "T=np.linspace(0,t_fin,t) \n",
    "sig= chirp(T, f0=50, f1=5000, t1=t_fin, method='linear')  "
   ]
  },
  {
   "cell_type": "code",
   "execution_count": null,
   "id": "35c4d05e",
   "metadata": {},
   "outputs": [],
   "source": []
  }
 ],
 "metadata": {
  "kernelspec": {
   "display_name": "acus099",
   "language": "python",
   "name": "acus099"
  },
  "language_info": {
   "codemirror_mode": {
    "name": "ipython",
    "version": 3
   },
   "file_extension": ".py",
   "mimetype": "text/x-python",
   "name": "python",
   "nbconvert_exporter": "python",
   "pygments_lexer": "ipython3",
   "version": "3.8.10"
  }
 },
 "nbformat": 4,
 "nbformat_minor": 5
}
